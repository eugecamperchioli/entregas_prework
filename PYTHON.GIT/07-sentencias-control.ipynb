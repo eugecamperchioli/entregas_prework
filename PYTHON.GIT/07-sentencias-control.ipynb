{
 "cells": [
  {
   "cell_type": "markdown",
   "metadata": {},
   "source": [
    "<div style=\"text-align: center;\">\n",
    "  <img src=\"https://github.com/Hack-io-Data/Imagenes/blob/main/01-LogosHackio/logo_celeste@4x.png?raw=true\" alt=\"logo hack(io)\" />\n",
    "</div>"
   ]
  },
  {
   "cell_type": "markdown",
   "metadata": {},
   "source": [
    "#### 1. Escribe un programa que determine si un número es par o impar.\n",
    "\n"
   ]
  },
  {
   "cell_type": "code",
   "execution_count": 2,
   "metadata": {},
   "outputs": [
    {
     "data": {
      "text/plain": [
       "8"
      ]
     },
     "execution_count": 2,
     "metadata": {},
     "output_type": "execute_result"
    }
   ],
   "source": [
    "numero = int(input(\"introduce un numero: \"))\n",
    "numero"
   ]
  },
  {
   "cell_type": "code",
   "execution_count": 4,
   "metadata": {},
   "outputs": [
    {
     "name": "stdout",
     "output_type": "stream",
     "text": [
      "el numero es par\n"
     ]
    }
   ],
   "source": [
    "if numero % 2 == 0:\n",
    "    print(\"el numero es par\")\n",
    "else:\n",
    "    print(\"el numero es impar\")"
   ]
  },
  {
   "cell_type": "markdown",
   "metadata": {},
   "source": [
    "#### 2. Genera un programa que nos diga si es de noche, de día o tarde según la hora proporcionada por el usuario."
   ]
  },
  {
   "cell_type": "code",
   "execution_count": 10,
   "metadata": {},
   "outputs": [
    {
     "data": {
      "text/plain": [
       "20"
      ]
     },
     "execution_count": 10,
     "metadata": {},
     "output_type": "execute_result"
    }
   ],
   "source": [
    "hora = int(input(\"introduce una hora (0:23): \"))\n",
    "hora"
   ]
  },
  {
   "cell_type": "code",
   "execution_count": 11,
   "metadata": {},
   "outputs": [
    {
     "name": "stdout",
     "output_type": "stream",
     "text": [
      "segun la hora proporcionada es de noche\n"
     ]
    }
   ],
   "source": [
    "if hora > 18:\n",
    "    print(\"segun la hora proporcionada es de noche\")\n",
    "else:\n",
    "    print(\"segun la hora proporcionada es de día\")"
   ]
  },
  {
   "cell_type": "markdown",
   "metadata": {},
   "source": [
    "#### 3. Dado un nombre imprime un saludo personalizado."
   ]
  },
  {
   "cell_type": "code",
   "execution_count": 47,
   "metadata": {},
   "outputs": [
    {
     "data": {
      "text/plain": [
       "'eugenia'"
      ]
     },
     "execution_count": 47,
     "metadata": {},
     "output_type": "execute_result"
    }
   ],
   "source": [
    "saludo = input(\"introduce tu nombre: \")\n",
    "saludo"
   ]
  },
  {
   "cell_type": "code",
   "execution_count": 55,
   "metadata": {},
   "outputs": [
    {
     "name": "stdout",
     "output_type": "stream",
     "text": [
      "hola, eugenia ! Bienvenida a esta cuenta\n"
     ]
    }
   ],
   "source": [
    "print(f\"hola, {saludo} ! Bienvenida a esta cuenta\")"
   ]
  },
  {
   "cell_type": "markdown",
   "metadata": {},
   "source": [
    "#### 4. Escribe un programa que determine qué calificación en texto tiene un alumno en base a su calificación numérica. Las reglas de calificación son: \n",
    "\n",
    "- 0 - 69 insuficiente\n",
    "\n",
    "- 70 - 79 bien\n",
    "\n",
    "- 80 - 89 muy bien\n",
    "\n",
    "- 90 - 100 excelente\n"
   ]
  },
  {
   "cell_type": "code",
   "execution_count": 31,
   "metadata": {},
   "outputs": [
    {
     "data": {
      "text/plain": [
       "50"
      ]
     },
     "execution_count": 31,
     "metadata": {},
     "output_type": "execute_result"
    }
   ],
   "source": [
    "calificacion = int(input(\"determinar la calificacion del alumno (0-100): \"))\n",
    "calificacion"
   ]
  },
  {
   "cell_type": "code",
   "execution_count": 33,
   "metadata": {},
   "outputs": [
    {
     "name": "stdout",
     "output_type": "stream",
     "text": [
      "el alumno obtuvo calificacion INSUFICIENTE\n"
     ]
    }
   ],
   "source": [
    "if calificacion >= 90:\n",
    "    print(\"el alumno obtuvo calificacion EXCELENTE\")\n",
    "elif calificacion < 90 and calificacion >= 80:\n",
    "    print(\"el alumno obtuvo calificacion MUY BIEN\")\n",
    "elif calificacion < 80 and calificacion >= 70:\n",
    "    print(\"el alumno obtuvo calificacion BIEN\")\n",
    "elif calificacion <= 69:\n",
    "    print(\"el alumno obtuvo calificacion INSUFICIENTE\")\n",
    "else:\n",
    "    print(\"la calificacon no es valida\")\n"
   ]
  },
  {
   "cell_type": "markdown",
   "metadata": {},
   "source": [
    "#### 5. Escribe un programa que imprima el día de la semana, dado un número del 1 al 7.\n"
   ]
  },
  {
   "cell_type": "code",
   "execution_count": 40,
   "metadata": {},
   "outputs": [
    {
     "data": {
      "text/plain": [
       "10"
      ]
     },
     "execution_count": 40,
     "metadata": {},
     "output_type": "execute_result"
    }
   ],
   "source": [
    "dia_semana = int(input(\"determine un dia de la semana del 1 al 7: \"))\n",
    "dia_semana"
   ]
  },
  {
   "cell_type": "markdown",
   "metadata": {},
   "source": [
    "#### 6. Escribe un programa que determine si un número es positivo, negativo o cero."
   ]
  },
  {
   "cell_type": "code",
   "execution_count": 41,
   "metadata": {},
   "outputs": [
    {
     "name": "stdout",
     "output_type": "stream",
     "text": [
      "el numero no corresponde a un dia de la semana\n"
     ]
    }
   ],
   "source": [
    "if dia_semana == 1:\n",
    "    print(\"hoy es DOMINGO\")\n",
    "elif dia_semana == 2:\n",
    "    print(\"hoy es LUNES\")\n",
    "elif dia_semana == 3:\n",
    "    print(\"hoy es MARTES\")\n",
    "elif dia_semana == 4:\n",
    "    print(\"hoy es MIERCOLES\")\n",
    "elif dia_semana == 5:\n",
    "    print(\"hoy es JUEVES\")\n",
    "elif dia_semana == 6:\n",
    "    print(\"hoy es VIENERS\")\n",
    "elif dia_semana == 7:\n",
    "    print(\"hoy es SABADO\")\n",
    "else:\n",
    "    print(\"el numero no corresponde a un dia de la semana\")"
   ]
  },
  {
   "cell_type": "markdown",
   "metadata": {},
   "source": [
    "#### 7. Escribe un programa que determine si una persona puede conducir o no. La edad mínima para conducir es 18 años. \n"
   ]
  },
  {
   "cell_type": "code",
   "execution_count": 44,
   "metadata": {},
   "outputs": [
    {
     "data": {
      "text/plain": [
       "45"
      ]
     },
     "execution_count": 44,
     "metadata": {},
     "output_type": "execute_result"
    }
   ],
   "source": [
    "edad = (int(input(\"determina la edad del ususario: \")))\n",
    "edad"
   ]
  },
  {
   "cell_type": "code",
   "execution_count": 46,
   "metadata": {},
   "outputs": [
    {
     "name": "stdout",
     "output_type": "stream",
     "text": [
      "la persona puede conducir\n"
     ]
    }
   ],
   "source": [
    "if edad >= 18:\n",
    "    print(\"la persona puede conducir\")\n",
    "else:\n",
    "    print(\"la persona no puede conducir\")\n"
   ]
  },
  {
   "cell_type": "markdown",
   "metadata": {},
   "source": [
    "#### 8. Escribe un programa que determine si un estudiante aprobó o suspendió un examen."
   ]
  },
  {
   "cell_type": "code",
   "execution_count": 56,
   "metadata": {},
   "outputs": [
    {
     "data": {
      "text/plain": [
       "50"
      ]
     },
     "execution_count": 56,
     "metadata": {},
     "output_type": "execute_result"
    }
   ],
   "source": [
    "nota = int(input(\"introduce la calificacion del estudiante del 0 al 100: \"))\n",
    "nota"
   ]
  },
  {
   "cell_type": "code",
   "execution_count": 57,
   "metadata": {},
   "outputs": [],
   "source": [
    "if nota >= 60:\n",
    "    resultado = \"APROBADO\"\n",
    "else:\n",
    "    resultado = \"SUSPENDIDO\""
   ]
  },
  {
   "cell_type": "code",
   "execution_count": 58,
   "metadata": {},
   "outputs": [
    {
     "name": "stdout",
     "output_type": "stream",
     "text": [
      "el estudiante ha SUSPENDIDO el examen\n"
     ]
    }
   ],
   "source": [
    "print (f\"el estudiante ha {resultado} el examen\")"
   ]
  },
  {
   "cell_type": "markdown",
   "metadata": {},
   "source": [
    "#### 9. Escribe un programa que determine si un número es múltiplo de 3 y 5.\n"
   ]
  },
  {
   "cell_type": "code",
   "execution_count": 59,
   "metadata": {},
   "outputs": [
    {
     "data": {
      "text/plain": [
       "8"
      ]
     },
     "execution_count": 59,
     "metadata": {},
     "output_type": "execute_result"
    }
   ],
   "source": [
    "numero = int(input(\"introduce un numero: \"))\n",
    "numero"
   ]
  },
  {
   "cell_type": "code",
   "execution_count": 60,
   "metadata": {},
   "outputs": [
    {
     "name": "stdout",
     "output_type": "stream",
     "text": [
      "el 8 no es multiplo de 3 y 5\n"
     ]
    }
   ],
   "source": [
    "if numero % 3 == 0 and numero % 5 == 0:\n",
    "    print(f\"el {numero} es multiplo de 3 y 5\")\n",
    "else:\n",
    "    print(f\"el {numero} no es multiplo de 3 y 5\")"
   ]
  },
  {
   "cell_type": "markdown",
   "metadata": {},
   "source": [
    "#### 10. Escribe un programa que determine si un número es par o impar.\n"
   ]
  },
  {
   "cell_type": "markdown",
   "metadata": {},
   "source": [
    "**se repite el primer ejercicio, resuelto arriba**"
   ]
  }
 ],
 "metadata": {
  "kernelspec": {
   "display_name": "Python 3",
   "language": "python",
   "name": "python3"
  },
  "language_info": {
   "codemirror_mode": {
    "name": "ipython",
    "version": 3
   },
   "file_extension": ".py",
   "mimetype": "text/x-python",
   "name": "python",
   "nbconvert_exporter": "python",
   "pygments_lexer": "ipython3",
   "version": "3.9.6"
  }
 },
 "nbformat": 4,
 "nbformat_minor": 2
}
