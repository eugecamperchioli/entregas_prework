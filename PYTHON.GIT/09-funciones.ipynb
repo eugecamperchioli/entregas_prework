{
 "cells": [
  {
   "cell_type": "markdown",
   "metadata": {},
   "source": [
    "\n",
    "<div style=\"text-align: center;\">\n",
    "  <img src=\"https://github.com/Hack-io-Data/Imagenes/blob/main/01-LogosHackio/logo_celeste@4x.png?raw=true\" alt=\"esquema\" />\n",
    "</div>"
   ]
  },
  {
   "cell_type": "markdown",
   "metadata": {},
   "source": [
    "#### 1. Escribe una función sin parámetros que imprima el siguiente mensaje \"¡Hola! Bienvenido.\"\n"
   ]
  },
  {
   "cell_type": "code",
   "execution_count": 1,
   "metadata": {},
   "outputs": [],
   "source": [
    "def saludar():\n",
    "    print(\"Hla, mundo!\")"
   ]
  },
  {
   "cell_type": "markdown",
   "metadata": {},
   "source": [
    "#### 2. Escribe una función que reciba dos parámetros y devuelva la suma de ambos.\n"
   ]
  },
  {
   "cell_type": "code",
   "execution_count": 12,
   "metadata": {},
   "outputs": [],
   "source": [
    "num1 = 2\n",
    "num2 = 19"
   ]
  },
  {
   "cell_type": "code",
   "execution_count": 13,
   "metadata": {},
   "outputs": [
    {
     "name": "stdout",
     "output_type": "stream",
     "text": [
      "el resultado de la funcion es 21\n"
     ]
    }
   ],
   "source": [
    "def sumar_numeros(num1,num2):\n",
    "    resultado = num1 + num2\n",
    "    return resultado\n",
    "\n",
    "total = sumar_numeros(num1,num2)\n",
    "\n",
    "print(f\"el resultado de la funcion es {total}\")\n"
   ]
  },
  {
   "cell_type": "markdown",
   "metadata": {},
   "source": [
    "#### 3. Escribe una función que reciba un número y devuelva True si es par, False si no lo es."
   ]
  },
  {
   "cell_type": "code",
   "execution_count": 42,
   "metadata": {},
   "outputs": [
    {
     "data": {
      "text/plain": [
       "8"
      ]
     },
     "execution_count": 42,
     "metadata": {},
     "output_type": "execute_result"
    }
   ],
   "source": [
    "n = int(input(\"introduce un numero: \"))\n",
    "n"
   ]
  },
  {
   "cell_type": "code",
   "execution_count": 44,
   "metadata": {},
   "outputs": [],
   "source": [
    "def es_par(numero):\n",
    "    return numero % 2 == 0\n",
    "\n",
    "resultado = es_par(n)\n",
    "\n"
   ]
  },
  {
   "cell_type": "code",
   "execution_count": 46,
   "metadata": {},
   "outputs": [
    {
     "name": "stdout",
     "output_type": "stream",
     "text": [
      "¿El número 8 es par? True\n"
     ]
    }
   ],
   "source": [
    "print(f\"¿El número {n} es par? {resultado}\")"
   ]
  },
  {
   "cell_type": "markdown",
   "metadata": {},
   "source": [
    "#### 4. Escribe un función que devuelva un saludo personalizado a una persona dado su nombre. \n"
   ]
  },
  {
   "cell_type": "code",
   "execution_count": 39,
   "metadata": {},
   "outputs": [
    {
     "name": "stdout",
     "output_type": "stream",
     "text": [
      "Hola,maria! como estas?\n"
     ]
    }
   ],
   "source": [
    "nombre = input(\"introduce tu nombre: \")\n",
    "saludo = saludo_personalizado(nombre)\n",
    "print(saludo)"
   ]
  },
  {
   "cell_type": "code",
   "execution_count": 36,
   "metadata": {},
   "outputs": [],
   "source": [
    "def saludo_personalizado(nombre):\n",
    "    return(f\"Hola,{nombre}! como estas?\")\n",
    "    "
   ]
  },
  {
   "cell_type": "markdown",
   "metadata": {},
   "source": [
    "#### 5. Escribe una función que sume todos los números que reciba como argumento. La función debe recibir una cantidad variable de argumentos y devolver la suma de todos ellos."
   ]
  },
  {
   "cell_type": "code",
   "execution_count": 49,
   "metadata": {},
   "outputs": [
    {
     "name": "stdout",
     "output_type": "stream",
     "text": [
      "la suma de todos es: 1320\n"
     ]
    }
   ],
   "source": [
    "def suma_todos(*args):\n",
    "    return sum(args)\n",
    "\n",
    "resultado = suma_todos(100,20,300,400,500)\n",
    "print(f\"la suma de todos es: {resultado}\")"
   ]
  },
  {
   "cell_type": "markdown",
   "metadata": {},
   "source": [
    "#### 6. Escribe una función que cuente las letras de una palabra y devuelva un diccionario con la cantidad de veces que se repite cada letra \n"
   ]
  },
  {
   "cell_type": "code",
   "execution_count": 51,
   "metadata": {},
   "outputs": [],
   "source": [
    "def contar_letras(palabra):\n",
    "    contador = {}\n",
    "\n",
    "    for letra in palabra:\n",
    "        if letra in contador:\n",
    "            contador[letra] += 1\n",
    "        else:\n",
    "            contador[letra] = 1\n",
    "    return contador"
   ]
  },
  {
   "cell_type": "code",
   "execution_count": 53,
   "metadata": {},
   "outputs": [
    {
     "data": {
      "text/plain": [
       "'jardin'"
      ]
     },
     "execution_count": 53,
     "metadata": {},
     "output_type": "execute_result"
    }
   ],
   "source": [
    "palabras = input(\"introduce una palabra: \")\n",
    "resultado = contar_letras(palabras)\n",
    "palabras"
   ]
  },
  {
   "cell_type": "code",
   "execution_count": 54,
   "metadata": {},
   "outputs": [
    {
     "name": "stdout",
     "output_type": "stream",
     "text": [
      "el conteo de las letras en la palabra jardin es: {'j': 1, 'a': 1, 'r': 1, 'd': 1, 'i': 1, 'n': 1}\n"
     ]
    }
   ],
   "source": [
    "print(f\"el conteo de las letras en la palabra {palabras} es: {resultado}\")"
   ]
  },
  {
   "cell_type": "markdown",
   "metadata": {},
   "source": [
    "#### 7. Escribe un función recursiva para calcular el factorial de un número entero no negativo."
   ]
  },
  {
   "cell_type": "code",
   "execution_count": 56,
   "metadata": {},
   "outputs": [
    {
     "name": "stdout",
     "output_type": "stream",
     "text": [
      "120\n"
     ]
    }
   ],
   "source": [
    "def factorial(n):\n",
    "    if n == 0:\n",
    "        return 1\n",
    "    else:\n",
    "        return n * factorial (n - 1)\n",
    "    \n",
    "print(factorial(5))"
   ]
  },
  {
   "cell_type": "markdown",
   "metadata": {},
   "source": [
    "#### 8. Escribe una función que tome dos parámetros: `figura` (una cadena que puede ser `\"rectangulo\"`, `\"circulo\"` o `\"triangulo\"`) y `datos` (una tupla con los datos necesarios para calcular el área de la figura). "
   ]
  },
  {
   "cell_type": "code",
   "execution_count": 93,
   "metadata": {},
   "outputs": [],
   "source": [
    "def calcular_area(figura,datos):\n",
    "    if figura == \"rectangulo\":\n",
    "        base, altura = datos   \n",
    "        return base * altura\n",
    "    elif figura == \"circulo\":\n",
    "        radio = datos\n",
    "        return 3.14159 * radio ** 2\n",
    "    elif figura == \"triangulo\":\n",
    "        base, altura = datos\n",
    "        return base * altura / 2\n",
    "    else:\n",
    "        return \"figura no reconocida\"\n",
    "\n"
   ]
  },
  {
   "cell_type": "code",
   "execution_count": 95,
   "metadata": {},
   "outputs": [],
   "source": [
    "area_rectangulo = calcular_area(\"rectangulo\", (5,10))\n",
    "area_circulo = calcular_area(\"circulo\", (3))\n",
    "area_triangulo = calcular_area(\"triangulo\", (4,8))"
   ]
  },
  {
   "cell_type": "code",
   "execution_count": 96,
   "metadata": {},
   "outputs": [
    {
     "name": "stdout",
     "output_type": "stream",
     "text": [
      "area del rectangulo: 50\n",
      "area del circulo: 28.27431\n",
      "area del triangulo: 16.0\n"
     ]
    }
   ],
   "source": [
    "print(f\"area del rectangulo: {area_rectangulo}\")\n",
    "print(f\"area del circulo: {area_circulo}\")\n",
    "print(f\"area del triangulo: {area_triangulo}\")"
   ]
  },
  {
   "cell_type": "markdown",
   "metadata": {},
   "source": [
    "#### 9. Escribe una función que tome una lista de números como parámetro y devuelva el número más grande de la lista. No utilices la función `max()` de Python en tu solución."
   ]
  },
  {
   "cell_type": "code",
   "execution_count": 77,
   "metadata": {},
   "outputs": [],
   "source": [
    "def econtrar_maximo(lista):\n",
    "    if not lista:\n",
    "        return None\n",
    "    \n",
    "    maximo = lista[0]\n",
    "    \n",
    "    for numero in lista:\n",
    "        if numero > maximo:\n",
    "            maximo = numero\n",
    "\n",
    "    return maximo\n",
    "\n",
    "resultado = econtrar_maximo(numeros)"
   ]
  },
  {
   "cell_type": "code",
   "execution_count": 78,
   "metadata": {},
   "outputs": [
    {
     "name": "stdout",
     "output_type": "stream",
     "text": [
      "el numero mas grande de la lista es 140\n"
     ]
    }
   ],
   "source": [
    "numeros = [23,56,89,140,50,6,2,8,10]\n",
    "\n",
    "print(f\"el numero mas grande de la lista es {resultado}\")"
   ]
  },
  {
   "cell_type": "markdown",
   "metadata": {},
   "source": [
    "#### 10. Escribe una función que tome una cadena como parámetro un texto y devuelva `True` si la cadena es un palíndromo (se lee igual de izquierda a derecha que de derecha a izquierda), y `False` en caso contrario. Ignora los espacios y considera mayúsculas y minúsculas de manera insensible.\n"
   ]
  },
  {
   "cell_type": "code",
   "execution_count": 79,
   "metadata": {},
   "outputs": [
    {
     "name": "stdout",
     "output_type": "stream",
     "text": [
      "'Hola Mundo' FALSE.\n"
     ]
    }
   ],
   "source": [
    "def es_palindromo(cadena):\n",
    "    cadena_limpia = ''.join(cadena.split()).lower()\n",
    "    return cadena_limpia == cadena_limpia[::-1]\n",
    "\n",
    "texto_usuario = input(\"Introduce una texto: \")\n",
    "if es_palindromo(texto_usuario):\n",
    "    print(f\"'{texto_usuario}' TRUE.\")\n",
    "else:\n",
    "    print(f\"'{texto_usuario}' FALSE.\")"
   ]
  },
  {
   "cell_type": "markdown",
   "metadata": {},
   "source": [
    "#### 11. Escribe una función que tome una cadena como parámetro y devuelva dos valores: la cantidad de vocales y la cantidad de consonantes presentes en la cadena. Ignora los espacios y considera mayúsculas y minúsculas de manera insensible.\n"
   ]
  },
  {
   "cell_type": "code",
   "execution_count": 80,
   "metadata": {},
   "outputs": [],
   "source": [
    "def contar_vocales_consonantes(cadena):\n",
    "    vocales = 'aeiou'\n",
    "    cantidad_vocales = 0\n",
    "    cantidad_consonantes = 0\n",
    "\n",
    "    cadena_limpia = cadena.replace(\" \", \"\").lower()\n",
    "\n",
    "    for i in cadena_limpia:\n",
    "        if i.isalpha():  # Verificamos si es una letra\n",
    "            if i in vocales:\n",
    "                cantidad_vocales += 1\n",
    "            else:\n",
    "                cantidad_consonantes += 1\n",
    "\n",
    "    return cantidad_vocales, cantidad_consonantes"
   ]
  },
  {
   "cell_type": "code",
   "execution_count": 83,
   "metadata": {},
   "outputs": [
    {
     "name": "stdout",
     "output_type": "stream",
     "text": [
      "Cantidad de vocales: 4\n",
      "Cantidad de consonantes: 5\n"
     ]
    }
   ],
   "source": [
    "texto_usuario = input(\"Introduce una cadena de texto: \")\n",
    "vocales, consonantes = contar_vocales_consonantes(texto_usuario)\n",
    "\n",
    "print(f\"Cantidad de vocales: {vocales}\")\n",
    "print(f\"Cantidad de consonantes: {consonantes}\")"
   ]
  }
 ],
 "metadata": {
  "kernelspec": {
   "display_name": "Python 3",
   "language": "python",
   "name": "python3"
  },
  "language_info": {
   "codemirror_mode": {
    "name": "ipython",
    "version": 3
   },
   "file_extension": ".py",
   "mimetype": "text/x-python",
   "name": "python",
   "nbconvert_exporter": "python",
   "pygments_lexer": "ipython3",
   "version": "3.9.6"
  }
 },
 "nbformat": 4,
 "nbformat_minor": 2
}
